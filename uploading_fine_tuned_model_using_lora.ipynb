{
  "cells": [
    {
      "cell_type": "code",
      "execution_count": null,
      "metadata": {
        "colab": {
          "base_uri": "https://localhost:8080/"
        },
        "id": "IqiTwZ6hyKhp",
        "outputId": "2462f08a-30be-44b3-f06a-df5e72b3d66d"
      },
      "outputs": [
        {
          "name": "stdout",
          "output_type": "stream",
          "text": [
            "Drive already mounted at /content/drive; to attempt to forcibly remount, call drive.mount(\"/content/drive\", force_remount=True).\n"
          ]
        }
      ],
      "source": [
        "from google.colab import drive\n",
        "drive.mount('/content/drive')"
      ]
    },
    {
      "cell_type": "code",
      "execution_count": null,
      "metadata": {
        "id": "uJyGt8vfTXXc"
      },
      "outputs": [],
      "source": [
        "%%capture\n",
        "! pip install bitsandbytes wandb peft accelerate"
      ]
    },
    {
      "cell_type": "code",
      "execution_count": null,
      "metadata": {
        "colab": {
          "base_uri": "https://localhost:8080/",
          "height": 145,
          "referenced_widgets": [
            "98898686d6204f73950c81191c334c17",
            "2f6af6de09164b729e3cb65e2cd38e4f",
            "bbf7ce17721d4383bdce10fb96544633",
            "44e0da7eecb24db48d22aacf94cd243e",
            "2e2478579d7f45f68c2641eca966b970",
            "58ed9c1f4c864f2abf1940ad09669eea",
            "afa5995c02a04e749adf6a8cfa9a844f",
            "2beec9d2fba346e6996a91e3c0d42c22",
            "d127b1f5891f4c6da5135ecbb431dcad",
            "e578a01dfe9243369e5719c6eaa5d76f",
            "e6813a96e5494b77addbb802038b48b7",
            "ead6051af5884d239301fae8c56bbdb9",
            "e95305e0775046c8b31c7421ab6eebe5",
            "642f535411124502952d353f85c56083",
            "3cb9e4ff5f0844eabc3eedd86df6a59c",
            "60f9f7f3bc0c48158151d69bbc07e116",
            "83c660960761457a97ee053f53e10791",
            "21e344259e08442581c6f64d43c3048c",
            "14c86f87fd1848e798c21d92076e53e2",
            "7c0d61e6a3e542cc8e742d908afa5ade",
            "3ffb50f46352425389f431400a2829a2",
            "9880fd6e07934425a7e1fae0f401ab44",
            "3d0cc840f75b462aa54a860e831f2653",
            "f7a7151daadd4b2c958e91699cd7902c",
            "09baee20fcc74e60bf87a1f6c4f34e3d",
            "40157cba735c4e778fe8a6dc33cb17bc",
            "905f493d5bc94989aec7c59236a0233e",
            "3c78951c46054d0989a5af27cf63b9c6",
            "a8a41c34660748b7942dffe65e8982d3",
            "bbe115f057a741f899d1f34a292c5ed1",
            "0e2fd666342947cdb59ea8b4e5a5ae41",
            "8edb5cdb47d64e24aae5dcb4eb136ce9"
          ]
        },
        "id": "reLnxqSVbR0R",
        "outputId": "5bcccac4-da86-43e5-b597-18913c25e2b3"
      },
      "outputs": [
        {
          "data": {
            "application/vnd.jupyter.widget-view+json": {
              "model_id": "98898686d6204f73950c81191c334c17",
              "version_major": 2,
              "version_minor": 0
            },
            "text/plain": [
              "VBox(children=(HTML(value='<center> <img\\nsrc=https://huggingface.co/front/assets/huggingface_logo-noborder.sv…"
            ]
          },
          "metadata": {},
          "output_type": "display_data"
        }
      ],
      "source": [
        "from huggingface_hub import notebook_login\n",
        "notebook_login()"
      ]
    },
    {
      "cell_type": "code",
      "execution_count": null,
      "metadata": {
        "id": "rUzgCR2lWWnt"
      },
      "outputs": [],
      "source": [
        "import pandas as pd\n",
        "import numpy as np\n",
        "import torch\n",
        "import transformers\n",
        "import bitsandbytes as bnb\n",
        "import os\n",
        "import wandb\n",
        "\n",
        "from transformers import AutoTokenizer, AdamW, AutoModelForCausalLM, BitsAndBytesConfig\n",
        "from peft import prepare_model_for_kbit_training, LoraConfig, get_peft_model\n",
        "from tqdm import tqdm\n"
      ]
    },
    {
      "cell_type": "code",
      "execution_count": null,
      "metadata": {
        "id": "5eLc9mTjHO6G"
      },
      "outputs": [],
      "source": [
        "file_path = '/content/drive/MyDrive/open/train.csv'\n",
        "train = pd.read_csv(file_path)"
      ]
    },
    {
      "cell_type": "code",
      "execution_count": null,
      "metadata": {
        "id": "3hg5Aylc0bLB"
      },
      "outputs": [],
      "source": [
        "train['내용'] = '질문: ' + train['Question'] + '\\n' + '답변:' + train['Answer']\n",
        "data = pd.DataFrame(train['내용'], columns=['내용'])"
      ]
    },
    {
      "cell_type": "code",
      "execution_count": null,
      "metadata": {
        "colab": {
          "base_uri": "https://localhost:8080/",
          "height": 206
        },
        "id": "V6sgLYmgISYM",
        "outputId": "99ee1566-c865-4e1a-c685-3f5c3defcee2"
      },
      "outputs": [
        {
          "data": {
            "application/vnd.google.colaboratory.intrinsic+json": {
              "summary": "{\n  \"name\": \"data\",\n  \"rows\": 496,\n  \"fields\": [\n    {\n      \"column\": \"\\ub0b4\\uc6a9\",\n      \"properties\": {\n        \"dtype\": \"string\",\n        \"num_unique_values\": 493,\n        \"samples\": [\n          \"\\uc9c8\\ubb38: \\uc9c0\\ubc29\\uad50\\ubd80\\uc138\\uc758 \\ubc95\\uc815\\ub960\\uc740 \\ud604\\uc7ac \\uc5b4\\ub5a4 \\uc218\\uc900\\uc73c\\ub85c \\uc720\\uc9c0\\ub418\\uace0 \\uc788\\ub294\\uac00?\\n\\ub2f5\\ubcc0:\\uc9c0\\ubc29\\uad50\\ubd80\\uc138\\uc758 \\ubc95\\uc815\\ub960\\uc740 2006\\ub144 \\uc778\\uc0c1 \\uc774\\ud6c4 \\ubcc0\\ub3d9 \\uc5c6\\uc774 \\ud604\\uc7ac\\uc640 \\uac19\\uc774 19.24%\\ub85c \\uc720\\uc9c0\\ub418\\uace0 \\uc788\\ub2e4.\",\n          \"\\uc9c8\\ubb38: \\ub18d\\uc5c5\\uc758 \\uc0dd\\uc0b0\\uc131\\uc744 \\ub192\\uc774\\uace0 \\ub178\\ub3d9 \\ud22c\\uc785\\ub7c9\\uc744 \\uc904\\uc774\\uae30 \\uc704\\ud574 \\uc5b4\\ub5a4 \\ubc29\\uc548\\uc744 \\ucd94\\uc9c4\\ud558\\uace0 \\uc788\\ub294\\uac00?\\n\\ub2f5\\ubcc0:\\uc2a4\\ub9c8\\ud2b8\\ub18d\\uc5c5\\uc744 \\uc721\\uc131\\ud558\\uace0 \\ub18d\\uc5c5 \\uc790\\ub3d9\\ud654 \\ubc0f \\ub370\\uc774\\ud130 \\uae30\\ubc18 \\uc2a4\\ub9c8\\ud2b8\\ud31c \\ud655\\uc0b0\\uc744 \\ucd94\\uc9c4\\ud558\\uace0 \\uc788\\uc73c\\uba70, \\uc784\\ub300\\ud615 \\uc2a4\\ub9c8\\ud2b8\\ud31c\\uacfc \\uc2a4\\ub9c8\\ud2b8\\uc628\\uc2e4\\uc744 \\uad6c\\ucd95\\ud558\\uc5ec \\uccad\\ub144\\ub18d\\uc5d0\\uac8c \\uc7a5\\uae30 \\uc784\\ub300\\ud558\\ub294 \\ub4f1\\uc758 \\ubc29\\uc548\\uc744 \\ucd94\\uc9c4\\ud558\\uace0 \\uc788\\ub2e4.\",\n          \"\\uc9c8\\ubb38: \\uc0dd\\uacc4\\uae09\\uc5ec \\ubd80\\uc591\\uc758\\ubb34\\uc790 \\uae30\\uc900\\uc774 \\uc5b8\\uc81c \\uc804\\uba74 \\ud3d0\\uc9c0\\ub418\\uc5c8\\ub098\\uc694?\\n\\ub2f5\\ubcc0:\\uc0dd\\uacc4\\uae09\\uc5ec \\ubd80\\uc591\\uc758\\ubb34\\uc790 \\uae30\\uc900\\uc740 2021\\ub144 10\\uc6d4\\uc5d0 \\uc804\\uba74 \\ud3d0\\uc9c0\\ub418\\uc5c8\\uc2b5\\ub2c8\\ub2e4.\"\n        ],\n        \"semantic_type\": \"\",\n        \"description\": \"\"\n      }\n    }\n  ]\n}",
              "type": "dataframe",
              "variable_name": "data"
            },
            "text/html": [
              "\n",
              "  <div id=\"df-1359c0e4-d515-4fc7-8c28-8b4d32074735\" class=\"colab-df-container\">\n",
              "    <div>\n",
              "<style scoped>\n",
              "    .dataframe tbody tr th:only-of-type {\n",
              "        vertical-align: middle;\n",
              "    }\n",
              "\n",
              "    .dataframe tbody tr th {\n",
              "        vertical-align: top;\n",
              "    }\n",
              "\n",
              "    .dataframe thead th {\n",
              "        text-align: right;\n",
              "    }\n",
              "</style>\n",
              "<table border=\"1\" class=\"dataframe\">\n",
              "  <thead>\n",
              "    <tr style=\"text-align: right;\">\n",
              "      <th></th>\n",
              "      <th>내용</th>\n",
              "    </tr>\n",
              "  </thead>\n",
              "  <tbody>\n",
              "    <tr>\n",
              "      <th>0</th>\n",
              "      <td>질문: 2024년 중앙정부 재정체계는 어떻게 구성되어 있나요?\\n답변:2024년 중...</td>\n",
              "    </tr>\n",
              "    <tr>\n",
              "      <th>1</th>\n",
              "      <td>질문: 2024년 중앙정부의 예산 지출은 어떻게 구성되어 있나요?\\n답변:2024년...</td>\n",
              "    </tr>\n",
              "    <tr>\n",
              "      <th>2</th>\n",
              "      <td>질문: 기금이 예산과 다른 점은?\\n답변:기금은 예산과 구분되는 재정수단으로서 재정...</td>\n",
              "    </tr>\n",
              "    <tr>\n",
              "      <th>3</th>\n",
              "      <td>질문: 일반회계, 특별회계, 기금 간의 차이점은 무엇인가요?\\n답변:일반회계는 특정...</td>\n",
              "    </tr>\n",
              "    <tr>\n",
              "      <th>4</th>\n",
              "      <td>질문: 2024년 총수입은 얼마이며, 예산수입과 기금수입은 각각 몇 조원인가요?\\n...</td>\n",
              "    </tr>\n",
              "  </tbody>\n",
              "</table>\n",
              "</div>\n",
              "    <div class=\"colab-df-buttons\">\n",
              "\n",
              "  <div class=\"colab-df-container\">\n",
              "    <button class=\"colab-df-convert\" onclick=\"convertToInteractive('df-1359c0e4-d515-4fc7-8c28-8b4d32074735')\"\n",
              "            title=\"Convert this dataframe to an interactive table.\"\n",
              "            style=\"display:none;\">\n",
              "\n",
              "  <svg xmlns=\"http://www.w3.org/2000/svg\" height=\"24px\" viewBox=\"0 -960 960 960\">\n",
              "    <path d=\"M120-120v-720h720v720H120Zm60-500h600v-160H180v160Zm220 220h160v-160H400v160Zm0 220h160v-160H400v160ZM180-400h160v-160H180v160Zm440 0h160v-160H620v160ZM180-180h160v-160H180v160Zm440 0h160v-160H620v160Z\"/>\n",
              "  </svg>\n",
              "    </button>\n",
              "\n",
              "  <style>\n",
              "    .colab-df-container {\n",
              "      display:flex;\n",
              "      gap: 12px;\n",
              "    }\n",
              "\n",
              "    .colab-df-convert {\n",
              "      background-color: #E8F0FE;\n",
              "      border: none;\n",
              "      border-radius: 50%;\n",
              "      cursor: pointer;\n",
              "      display: none;\n",
              "      fill: #1967D2;\n",
              "      height: 32px;\n",
              "      padding: 0 0 0 0;\n",
              "      width: 32px;\n",
              "    }\n",
              "\n",
              "    .colab-df-convert:hover {\n",
              "      background-color: #E2EBFA;\n",
              "      box-shadow: 0px 1px 2px rgba(60, 64, 67, 0.3), 0px 1px 3px 1px rgba(60, 64, 67, 0.15);\n",
              "      fill: #174EA6;\n",
              "    }\n",
              "\n",
              "    .colab-df-buttons div {\n",
              "      margin-bottom: 4px;\n",
              "    }\n",
              "\n",
              "    [theme=dark] .colab-df-convert {\n",
              "      background-color: #3B4455;\n",
              "      fill: #D2E3FC;\n",
              "    }\n",
              "\n",
              "    [theme=dark] .colab-df-convert:hover {\n",
              "      background-color: #434B5C;\n",
              "      box-shadow: 0px 1px 3px 1px rgba(0, 0, 0, 0.15);\n",
              "      filter: drop-shadow(0px 1px 2px rgba(0, 0, 0, 0.3));\n",
              "      fill: #FFFFFF;\n",
              "    }\n",
              "  </style>\n",
              "\n",
              "    <script>\n",
              "      const buttonEl =\n",
              "        document.querySelector('#df-1359c0e4-d515-4fc7-8c28-8b4d32074735 button.colab-df-convert');\n",
              "      buttonEl.style.display =\n",
              "        google.colab.kernel.accessAllowed ? 'block' : 'none';\n",
              "\n",
              "      async function convertToInteractive(key) {\n",
              "        const element = document.querySelector('#df-1359c0e4-d515-4fc7-8c28-8b4d32074735');\n",
              "        const dataTable =\n",
              "          await google.colab.kernel.invokeFunction('convertToInteractive',\n",
              "                                                    [key], {});\n",
              "        if (!dataTable) return;\n",
              "\n",
              "        const docLinkHtml = 'Like what you see? Visit the ' +\n",
              "          '<a target=\"_blank\" href=https://colab.research.google.com/notebooks/data_table.ipynb>data table notebook</a>'\n",
              "          + ' to learn more about interactive tables.';\n",
              "        element.innerHTML = '';\n",
              "        dataTable['output_type'] = 'display_data';\n",
              "        await google.colab.output.renderOutput(dataTable, element);\n",
              "        const docLink = document.createElement('div');\n",
              "        docLink.innerHTML = docLinkHtml;\n",
              "        element.appendChild(docLink);\n",
              "      }\n",
              "    </script>\n",
              "  </div>\n",
              "\n",
              "\n",
              "<div id=\"df-cf5dc260-f6bb-42cf-badc-0c5bb4381fc2\">\n",
              "  <button class=\"colab-df-quickchart\" onclick=\"quickchart('df-cf5dc260-f6bb-42cf-badc-0c5bb4381fc2')\"\n",
              "            title=\"Suggest charts\"\n",
              "            style=\"display:none;\">\n",
              "\n",
              "<svg xmlns=\"http://www.w3.org/2000/svg\" height=\"24px\"viewBox=\"0 0 24 24\"\n",
              "     width=\"24px\">\n",
              "    <g>\n",
              "        <path d=\"M19 3H5c-1.1 0-2 .9-2 2v14c0 1.1.9 2 2 2h14c1.1 0 2-.9 2-2V5c0-1.1-.9-2-2-2zM9 17H7v-7h2v7zm4 0h-2V7h2v10zm4 0h-2v-4h2v4z\"/>\n",
              "    </g>\n",
              "</svg>\n",
              "  </button>\n",
              "\n",
              "<style>\n",
              "  .colab-df-quickchart {\n",
              "      --bg-color: #E8F0FE;\n",
              "      --fill-color: #1967D2;\n",
              "      --hover-bg-color: #E2EBFA;\n",
              "      --hover-fill-color: #174EA6;\n",
              "      --disabled-fill-color: #AAA;\n",
              "      --disabled-bg-color: #DDD;\n",
              "  }\n",
              "\n",
              "  [theme=dark] .colab-df-quickchart {\n",
              "      --bg-color: #3B4455;\n",
              "      --fill-color: #D2E3FC;\n",
              "      --hover-bg-color: #434B5C;\n",
              "      --hover-fill-color: #FFFFFF;\n",
              "      --disabled-bg-color: #3B4455;\n",
              "      --disabled-fill-color: #666;\n",
              "  }\n",
              "\n",
              "  .colab-df-quickchart {\n",
              "    background-color: var(--bg-color);\n",
              "    border: none;\n",
              "    border-radius: 50%;\n",
              "    cursor: pointer;\n",
              "    display: none;\n",
              "    fill: var(--fill-color);\n",
              "    height: 32px;\n",
              "    padding: 0;\n",
              "    width: 32px;\n",
              "  }\n",
              "\n",
              "  .colab-df-quickchart:hover {\n",
              "    background-color: var(--hover-bg-color);\n",
              "    box-shadow: 0 1px 2px rgba(60, 64, 67, 0.3), 0 1px 3px 1px rgba(60, 64, 67, 0.15);\n",
              "    fill: var(--button-hover-fill-color);\n",
              "  }\n",
              "\n",
              "  .colab-df-quickchart-complete:disabled,\n",
              "  .colab-df-quickchart-complete:disabled:hover {\n",
              "    background-color: var(--disabled-bg-color);\n",
              "    fill: var(--disabled-fill-color);\n",
              "    box-shadow: none;\n",
              "  }\n",
              "\n",
              "  .colab-df-spinner {\n",
              "    border: 2px solid var(--fill-color);\n",
              "    border-color: transparent;\n",
              "    border-bottom-color: var(--fill-color);\n",
              "    animation:\n",
              "      spin 1s steps(1) infinite;\n",
              "  }\n",
              "\n",
              "  @keyframes spin {\n",
              "    0% {\n",
              "      border-color: transparent;\n",
              "      border-bottom-color: var(--fill-color);\n",
              "      border-left-color: var(--fill-color);\n",
              "    }\n",
              "    20% {\n",
              "      border-color: transparent;\n",
              "      border-left-color: var(--fill-color);\n",
              "      border-top-color: var(--fill-color);\n",
              "    }\n",
              "    30% {\n",
              "      border-color: transparent;\n",
              "      border-left-color: var(--fill-color);\n",
              "      border-top-color: var(--fill-color);\n",
              "      border-right-color: var(--fill-color);\n",
              "    }\n",
              "    40% {\n",
              "      border-color: transparent;\n",
              "      border-right-color: var(--fill-color);\n",
              "      border-top-color: var(--fill-color);\n",
              "    }\n",
              "    60% {\n",
              "      border-color: transparent;\n",
              "      border-right-color: var(--fill-color);\n",
              "    }\n",
              "    80% {\n",
              "      border-color: transparent;\n",
              "      border-right-color: var(--fill-color);\n",
              "      border-bottom-color: var(--fill-color);\n",
              "    }\n",
              "    90% {\n",
              "      border-color: transparent;\n",
              "      border-bottom-color: var(--fill-color);\n",
              "    }\n",
              "  }\n",
              "</style>\n",
              "\n",
              "  <script>\n",
              "    async function quickchart(key) {\n",
              "      const quickchartButtonEl =\n",
              "        document.querySelector('#' + key + ' button');\n",
              "      quickchartButtonEl.disabled = true;  // To prevent multiple clicks.\n",
              "      quickchartButtonEl.classList.add('colab-df-spinner');\n",
              "      try {\n",
              "        const charts = await google.colab.kernel.invokeFunction(\n",
              "            'suggestCharts', [key], {});\n",
              "      } catch (error) {\n",
              "        console.error('Error during call to suggestCharts:', error);\n",
              "      }\n",
              "      quickchartButtonEl.classList.remove('colab-df-spinner');\n",
              "      quickchartButtonEl.classList.add('colab-df-quickchart-complete');\n",
              "    }\n",
              "    (() => {\n",
              "      let quickchartButtonEl =\n",
              "        document.querySelector('#df-cf5dc260-f6bb-42cf-badc-0c5bb4381fc2 button');\n",
              "      quickchartButtonEl.style.display =\n",
              "        google.colab.kernel.accessAllowed ? 'block' : 'none';\n",
              "    })();\n",
              "  </script>\n",
              "</div>\n",
              "\n",
              "    </div>\n",
              "  </div>\n"
            ],
            "text/plain": [
              "                                                  내용\n",
              "0  질문: 2024년 중앙정부 재정체계는 어떻게 구성되어 있나요?\\n답변:2024년 중...\n",
              "1  질문: 2024년 중앙정부의 예산 지출은 어떻게 구성되어 있나요?\\n답변:2024년...\n",
              "2  질문: 기금이 예산과 다른 점은?\\n답변:기금은 예산과 구분되는 재정수단으로서 재정...\n",
              "3  질문: 일반회계, 특별회계, 기금 간의 차이점은 무엇인가요?\\n답변:일반회계는 특정...\n",
              "4  질문: 2024년 총수입은 얼마이며, 예산수입과 기금수입은 각각 몇 조원인가요?\\n..."
            ]
          },
          "execution_count": 18,
          "metadata": {},
          "output_type": "execute_result"
        }
      ],
      "source": [
        "data.head()"
      ]
    },
    {
      "cell_type": "code",
      "execution_count": null,
      "metadata": {
        "colab": {
          "base_uri": "https://localhost:8080/"
        },
        "id": "0p4pfWsZpAYs",
        "outputId": "872c1e00-038b-4a51-9894-17167a0f8715"
      },
      "outputs": [
        {
          "name": "stdout",
          "output_type": "stream",
          "text": [
            "<class 'pandas.core.frame.DataFrame'>\n",
            "RangeIndex: 496 entries, 0 to 495\n",
            "Data columns (total 1 columns):\n",
            " #   Column  Non-Null Count  Dtype \n",
            "---  ------  --------------  ----- \n",
            " 0   내용      496 non-null    object\n",
            "dtypes: object(1)\n",
            "memory usage: 4.0+ KB\n"
          ]
        }
      ],
      "source": [
        "data.info()"
      ]
    },
    {
      "cell_type": "code",
      "execution_count": null,
      "metadata": {
        "colab": {
          "base_uri": "https://localhost:8080/"
        },
        "id": "QoN562FBXJhs",
        "outputId": "7e1f552f-013f-4608-b344-2693451ed13d"
      },
      "outputs": [
        {
          "name": "stderr",
          "output_type": "stream",
          "text": [
            "496it [00:00, 1704.20it/s]"
          ]
        },
        {
          "name": "stdout",
          "output_type": "stream",
          "text": [
            "Done\n"
          ]
        },
        {
          "name": "stderr",
          "output_type": "stream",
          "text": [
            "\n"
          ]
        }
      ],
      "source": [
        "model_id = \"yanolja/EEVE-Korean-Instruct-10.8B-v1.0\"\n",
        "\n",
        "tokenizer = AutoTokenizer.from_pretrained(model_id,  eos_token='</s>')\n",
        "tokenizer.pad_token = tokenizer.eos_token\n",
        "\n",
        "\n",
        "max_length = 512\n",
        "\n",
        "formatted_data = []\n",
        "\n",
        "for _, row in tqdm(data.iterrows()):\n",
        "  input_text = row['내용']\n",
        "  input_ids = tokenizer.encode(input_text, return_tensors='pt', padding='max_length', truncation=True, max_length=max_length)\n",
        "  formatted_data.append(input_ids)\n",
        "print('Done')"
      ]
    },
    {
      "cell_type": "code",
      "execution_count": null,
      "metadata": {
        "id": "ry-ytkCTXThD"
      },
      "outputs": [],
      "source": [
        "formatted_data = torch.cat(formatted_data, dim=0)"
      ]
    },
    {
      "cell_type": "code",
      "execution_count": null,
      "metadata": {
        "colab": {
          "base_uri": "https://localhost:8080/",
          "height": 323,
          "referenced_widgets": [
            "553e239aeb574c588159fd0f212dd267",
            "c9f9b5eb99b54a98a85ce35ae5220064",
            "d60e256fa00d4ca2ba5512fba0a453f3",
            "c15c797e4d3d467c9c296eb95bd86696",
            "2516633592ac42728ab7ae8d4bbf9300",
            "46d184587d174d11bf516f259ff8a99a",
            "a37b7aa439164c0a9ee7f16dc8b88a88",
            "ebb131315aae47148aeb6592681b3807",
            "f1581c7179c64f6592e07a4f2a696aaa",
            "1a2902a50ea64a09940494f90bd6f8a1",
            "0f52a25e85c245d5add291d9f85f2bdb",
            "dec3c3d56d4c4df2b5d156a2071aa63b",
            "589db8cd53bb4717a8c3d818c96e626e",
            "2cf9a2f824014b068457e33877b7c214",
            "50fe823d05db450e856334e6677e3bbe",
            "b8380840ee07490c9800e98e604789de",
            "ff34eebc001e4ab2bb9e348994e0a663",
            "132cb1d06b434bf5b2c95ef26519b03e",
            "93c004dc0652416992fd58f15f250b1d",
            "f7ea47cde14b48bc96c78d1a96c165f6",
            "3cbfa7111e364baca82060ec56b306e4",
            "3f3e357e40f24449913f7e92b948e23a",
            "f72e9dfd57f444fea02c518f54cfca51",
            "5c1c34d118d3480798876f6b2abb7980",
            "9380561bc31a49c1961e513a8c16ebe3",
            "d8cd3323b2714e0781f379e72b7b0ee1",
            "370367bd9d7c46448a36128ce6ae132e",
            "21fba42b852447958f4a5083a8642f0e",
            "2b90ba452be944eb94b61d18fcca1f87",
            "349fb2d415ae4431b21304489efaabf8",
            "545d7c823fe146dcbf9c57c26086626b",
            "f8047720186e47b98d50423d3e4b7b4c",
            "23b9618488d249448bfc2a82f0141882",
            "1fcce5992656441c95930a032dda09bf",
            "ef98191d30b94249a05020dd5ddab510",
            "b2b129bdd29c43c0aac72ee15c99529c",
            "4863c308ccfd4575bc9331d49b125ad0",
            "6ef3aa9288fd40d7afabc6c8fe8a665a",
            "c0edaadcb6a54cb5ba6b1480df37fb2d",
            "485a40c501804f54bbace02f9a28ec2b",
            "de3a8e225d284627bdc779aed13eb1ba",
            "376d929032ce4f0da44b9324707a5ce3",
            "4763b032e22344239b0c1f032e1bd6ac",
            "2316cf18356a4693bfe8873dae194387",
            "1e538d0a8085457d9925529a8c2f18cd",
            "db104cedc71a412bbe1e502bc1f6167b",
            "34c9f2e7f3d64e5aac072cf19915d07b",
            "2bca8fe3b30b47aeab4e03ce27dc17a0",
            "a9af2641d7a54156abb16d8f50104e8d",
            "0411854c4e3f4e0786735a61bd27947b",
            "cd3cfaaeb7e24d8fa65dad5623bbd064",
            "31ff839a8d4d496d91b078e595ef5b3f",
            "0e2b87f2cd1e42ecaf313ca16e10563b",
            "c8133ccc140e4418ad5bfea7c783d5dd",
            "e14ed246be4c469a8aa7cb5bde9d3968",
            "14f88ed6d0e74690912fb4f4a8444fdd",
            "20a6bed6a7574d6fa22d458911474fcf",
            "b07995cd2afe4e8c948387bd3cd697f4",
            "662afc349b6d47e7ac3964c34c1d70ff",
            "dd283a30a1454f64b8cefb20b382ec15",
            "e6f6fb4138334847bb2f9a6ca5c9e70e",
            "bdc91f543add4341b4c8e1c6e7c92afd",
            "cd51d0494e9c441daaf324b8d3453ab4",
            "d7df910b6b4049bb9ef0940231a8b4ac",
            "21354eab800c434cb29cead313d4d4e2",
            "e76bf33b66554c52bccd40fc1a061d3f",
            "13e1b5e9cdce4beaab60a5ceb438b775",
            "be5db8be1c1042a7894bb1d44b09e531",
            "fd7c1150fe174b82a60462ee912d866f",
            "c6c43253954e4fbc9f189d2166c219ef",
            "e3d9952659c540b195a7ee413e625b20",
            "edcd6e8fea1e4073b2ab2959558a34f9",
            "e94d2fca8cc84a08b588690195f2dd02",
            "9bdb4fb615254bfe9b6c76f754920e4a",
            "4a0fe75ce1054f94a8380cb4892dd82a",
            "cbce38cbf8f44c59a43a007065378463",
            "8929585cac16457ca8f6acd66333073e",
            "c465f5d017484c18a28210dc1f3ac965",
            "2aa2bb59daa04999a82bb98009fd25c7",
            "1a724b28cbe94414a2d8280808dea87a",
            "457db6bc97a34804b87e0514766760a8",
            "0fd58c65a3e141d394fa43574a65bd4a",
            "ac6afafa25d54123bb135261a58a44ed",
            "5af0bf58d5a44ffa9b30c71e87fab583",
            "1ab819797e8c4019a79294bbec31182c",
            "7bd0765da914410cafa8fe8f96aa42bf",
            "a43d59abef7a4a2a99f0283979acad69",
            "1be1f14c4a5845a19a0fda2b8936f3dd",
            "fe297921c6ec4923b23bc0218a6f4ebc",
            "b31ee418fc0746edad923b2cdb1bfd1e",
            "d65fb44fc454454f9fe5398504931aa8",
            "54c66354f6dd406483a19c1cabb6134f",
            "de7bec0967ef4e1892ffa2ea3bda52fd",
            "7527987bef854508ade40f1fd798d773",
            "3c7b8a3357654dd49a23552e00f7f4a6",
            "c897bb8393014555811eff62a5ca30e3",
            "bbe059b7e40044849c1d968b3b0bff77",
            "afddfbad8d604c7da857b7400c2f4b5c",
            "cea91ad344274bfda441b10897efd9ba"
          ]
        },
        "id": "WJKcLpdnXhIP",
        "outputId": "c65dc04e-b7c8-40da-e3ae-f549aeb23ad0"
      },
      "outputs": [
        {
          "data": {
            "application/vnd.jupyter.widget-view+json": {
              "model_id": "553e239aeb574c588159fd0f212dd267",
              "version_major": 2,
              "version_minor": 0
            },
            "text/plain": [
              "config.json:   0%|          | 0.00/704 [00:00<?, ?B/s]"
            ]
          },
          "metadata": {},
          "output_type": "display_data"
        },
        {
          "data": {
            "application/vnd.jupyter.widget-view+json": {
              "model_id": "dec3c3d56d4c4df2b5d156a2071aa63b",
              "version_major": 2,
              "version_minor": 0
            },
            "text/plain": [
              "model.safetensors.index.json:   0%|          | 0.00/35.8k [00:00<?, ?B/s]"
            ]
          },
          "metadata": {},
          "output_type": "display_data"
        },
        {
          "data": {
            "application/vnd.jupyter.widget-view+json": {
              "model_id": "f72e9dfd57f444fea02c518f54cfca51",
              "version_major": 2,
              "version_minor": 0
            },
            "text/plain": [
              "Downloading shards:   0%|          | 0/5 [00:00<?, ?it/s]"
            ]
          },
          "metadata": {},
          "output_type": "display_data"
        },
        {
          "data": {
            "application/vnd.jupyter.widget-view+json": {
              "model_id": "1fcce5992656441c95930a032dda09bf",
              "version_major": 2,
              "version_minor": 0
            },
            "text/plain": [
              "model-00001-of-00005.safetensors:   0%|          | 0.00/4.90G [00:00<?, ?B/s]"
            ]
          },
          "metadata": {},
          "output_type": "display_data"
        },
        {
          "data": {
            "application/vnd.jupyter.widget-view+json": {
              "model_id": "1e538d0a8085457d9925529a8c2f18cd",
              "version_major": 2,
              "version_minor": 0
            },
            "text/plain": [
              "model-00002-of-00005.safetensors:   0%|          | 0.00/4.92G [00:00<?, ?B/s]"
            ]
          },
          "metadata": {},
          "output_type": "display_data"
        },
        {
          "data": {
            "application/vnd.jupyter.widget-view+json": {
              "model_id": "14f88ed6d0e74690912fb4f4a8444fdd",
              "version_major": 2,
              "version_minor": 0
            },
            "text/plain": [
              "model-00003-of-00005.safetensors:   0%|          | 0.00/5.00G [00:00<?, ?B/s]"
            ]
          },
          "metadata": {},
          "output_type": "display_data"
        },
        {
          "data": {
            "application/vnd.jupyter.widget-view+json": {
              "model_id": "13e1b5e9cdce4beaab60a5ceb438b775",
              "version_major": 2,
              "version_minor": 0
            },
            "text/plain": [
              "model-00004-of-00005.safetensors:   0%|          | 0.00/4.92G [00:00<?, ?B/s]"
            ]
          },
          "metadata": {},
          "output_type": "display_data"
        },
        {
          "data": {
            "application/vnd.jupyter.widget-view+json": {
              "model_id": "c465f5d017484c18a28210dc1f3ac965",
              "version_major": 2,
              "version_minor": 0
            },
            "text/plain": [
              "model-00005-of-00005.safetensors:   0%|          | 0.00/1.88G [00:00<?, ?B/s]"
            ]
          },
          "metadata": {},
          "output_type": "display_data"
        },
        {
          "data": {
            "application/vnd.jupyter.widget-view+json": {
              "model_id": "fe297921c6ec4923b23bc0218a6f4ebc",
              "version_major": 2,
              "version_minor": 0
            },
            "text/plain": [
              "Loading checkpoint shards:   0%|          | 0/5 [00:00<?, ?it/s]"
            ]
          },
          "metadata": {},
          "output_type": "display_data"
        },
        {
          "name": "stdout",
          "output_type": "stream",
          "text": [
            "trainable params: 58982400 || all params: 5629415424 || trainable%: 1.0477535509022686\n"
          ]
        }
      ],
      "source": [
        "bnb_config = BitsAndBytesConfig(\n",
        "    load_in_4bit=True,\n",
        "    bnb_4bit_use_double_quant=True,\n",
        "    bnb_4bit_quant_type=\"nf4\",\n",
        "    bnb_4bit_compute_dtype=torch.float16\n",
        ")\n",
        "model = AutoModelForCausalLM.from_pretrained(model_id,\n",
        "                                             quantization_config=bnb_config,\n",
        "                                             device_map={\"\":0},\n",
        "                                             #torch_dtype=torch.float32,\n",
        "\n",
        "                                             )\n",
        "\n",
        "\n",
        "model.gradient_checkpointing_enable()\n",
        "model = prepare_model_for_kbit_training(model)\n",
        "\n",
        "def print_trainable_parameters(model):\n",
        "    \"\"\"\n",
        "    Prints the number of trainable parameters in the model.\n",
        "    \"\"\"\n",
        "    trainable_params = 0\n",
        "    all_param = 0\n",
        "    for _, param in model.named_parameters():\n",
        "        all_param += param.numel()\n",
        "        if param.requires_grad:\n",
        "            trainable_params += param.numel()\n",
        "    print(\n",
        "        f\"trainable params: {trainable_params} || all params: {all_param} || trainable%: {100 * trainable_params / all_param}\"\n",
        "    )\n",
        "\n",
        "\n",
        "config = LoraConfig(\n",
        "    r=16,\n",
        "    lora_alpha=32,\n",
        "    #target_modules=[\"query_key_value\"],\n",
        "    target_modules=[\n",
        "    \"q_proj\",\n",
        "    \"up_proj\",\n",
        "    \"o_proj\",\n",
        "    \"k_proj\",\n",
        "    \"gate_proj\",\n",
        "    \"up_proj\",\n",
        "    \"down_proj\"],\n",
        "    lora_dropout=0.05,\n",
        "    bias=\"none\",\n",
        "    task_type=\"CAUSAL_LM\"\n",
        ")\n",
        "\n",
        "model = get_peft_model(model, config)\n",
        "print_trainable_parameters(model)"
      ]
    },
    {
      "cell_type": "code",
      "execution_count": null,
      "metadata": {
        "id": "rmhijl4Stgvg"
      },
      "outputs": [],
      "source": [
        "import os\n",
        "os.environ['TORCH_USE_CUDA_DSA'] = '1'"
      ]
    },
    {
      "cell_type": "code",
      "execution_count": null,
      "metadata": {
        "colab": {
          "base_uri": "https://localhost:8080/",
          "height": 356
        },
        "id": "6uOg0yHxqSAn",
        "outputId": "db06c260-5ab0-4460-fcfa-4800cf916884"
      },
      "outputs": [
        {
          "name": "stderr",
          "output_type": "stream",
          "text": [
            "\u001b[34m\u001b[1mwandb\u001b[0m: \u001b[33mWARNING\u001b[0m The `run_name` is currently set to the same value as `TrainingArguments.output_dir`. If this was not intended, please specify a different run name by setting the `TrainingArguments.run_name` parameter.\n"
          ]
        },
        {
          "data": {
            "application/javascript": "\n        window._wandbApiKey = new Promise((resolve, reject) => {\n            function loadScript(url) {\n            return new Promise(function(resolve, reject) {\n                let newScript = document.createElement(\"script\");\n                newScript.onerror = reject;\n                newScript.onload = resolve;\n                document.body.appendChild(newScript);\n                newScript.src = url;\n            });\n            }\n            loadScript(\"https://cdn.jsdelivr.net/npm/postmate/build/postmate.min.js\").then(() => {\n            const iframe = document.createElement('iframe')\n            iframe.style.cssText = \"width:0;height:0;border:none\"\n            document.body.appendChild(iframe)\n            const handshake = new Postmate({\n                container: iframe,\n                url: 'https://wandb.ai/authorize'\n            });\n            const timeout = setTimeout(() => reject(\"Couldn't auto authenticate\"), 5000)\n            handshake.then(function(child) {\n                child.on('authorize', data => {\n                    clearTimeout(timeout)\n                    resolve(data)\n                });\n            });\n            })\n        });\n    ",
            "text/plain": [
              "<IPython.core.display.Javascript object>"
            ]
          },
          "metadata": {},
          "output_type": "display_data"
        },
        {
          "name": "stderr",
          "output_type": "stream",
          "text": [
            "\u001b[34m\u001b[1mwandb\u001b[0m: Logging into wandb.ai. (Learn how to deploy a W&B server locally: https://wandb.me/wandb-server)\n",
            "\u001b[34m\u001b[1mwandb\u001b[0m: You can find your API key in your browser here: https://wandb.ai/authorize\n",
            "wandb: Paste an API key from your profile and hit enter, or press ctrl+c to quit:"
          ]
        },
        {
          "name": "stdout",
          "output_type": "stream",
          "text": [
            " ··········\n"
          ]
        },
        {
          "name": "stderr",
          "output_type": "stream",
          "text": [
            "\u001b[34m\u001b[1mwandb\u001b[0m: Appending key for api.wandb.ai to your netrc file: /root/.netrc\n"
          ]
        },
        {
          "data": {
            "text/html": [
              "Tracking run with wandb version 0.17.5"
            ],
            "text/plain": [
              "<IPython.core.display.HTML object>"
            ]
          },
          "metadata": {},
          "output_type": "display_data"
        },
        {
          "data": {
            "text/html": [
              "Run data is saved locally in <code>/content/wandb/run-20240805_004134-gzm2rcpp</code>"
            ],
            "text/plain": [
              "<IPython.core.display.HTML object>"
            ]
          },
          "metadata": {},
          "output_type": "display_data"
        },
        {
          "data": {
            "text/html": [
              "Syncing run <strong><a href='https://wandb.ai/josha/huggingface/runs/gzm2rcpp' target=\"_blank\">yanolja/EEVE-Korean-Instruct-10.8B-v1.0_train80preprocessed</a></strong> to <a href='https://wandb.ai/josha/huggingface' target=\"_blank\">Weights & Biases</a> (<a href='https://wandb.me/run' target=\"_blank\">docs</a>)<br/>"
            ],
            "text/plain": [
              "<IPython.core.display.HTML object>"
            ]
          },
          "metadata": {},
          "output_type": "display_data"
        },
        {
          "data": {
            "text/html": [
              " View project at <a href='https://wandb.ai/josha/huggingface' target=\"_blank\">https://wandb.ai/josha/huggingface</a>"
            ],
            "text/plain": [
              "<IPython.core.display.HTML object>"
            ]
          },
          "metadata": {},
          "output_type": "display_data"
        },
        {
          "data": {
            "text/html": [
              " View run at <a href='https://wandb.ai/josha/huggingface/runs/gzm2rcpp' target=\"_blank\">https://wandb.ai/josha/huggingface/runs/gzm2rcpp</a>"
            ],
            "text/plain": [
              "<IPython.core.display.HTML object>"
            ]
          },
          "metadata": {},
          "output_type": "display_data"
        },
        {
          "name": "stderr",
          "output_type": "stream",
          "text": [
            "/usr/local/lib/python3.10/dist-packages/torch/utils/checkpoint.py:464: UserWarning: torch.utils.checkpoint: the use_reentrant parameter should be passed explicitly. In version 2.4 we will raise an exception if use_reentrant is not passed. use_reentrant=False is recommended, but if you need to preserve the current default behavior, you can pass use_reentrant=True. Refer to docs for more details on the differences between the two variants.\n",
            "  warnings.warn(\n"
          ]
        },
        {
          "data": {
            "text/html": [
              "\n",
              "    <div>\n",
              "      \n",
              "      <progress value='120' max='120' style='width:300px; height:20px; vertical-align: middle;'></progress>\n",
              "      [120/120 07:16, Epoch 3/3]\n",
              "    </div>\n",
              "    <table border=\"1\" class=\"dataframe\">\n",
              "  <thead>\n",
              " <tr style=\"text-align: left;\">\n",
              "      <th>Step</th>\n",
              "      <th>Training Loss</th>\n",
              "    </tr>\n",
              "  </thead>\n",
              "  <tbody>\n",
              "  </tbody>\n",
              "</table><p>"
            ],
            "text/plain": [
              "<IPython.core.display.HTML object>"
            ]
          },
          "metadata": {},
          "output_type": "display_data"
        },
        {
          "data": {
            "text/plain": [
              "TrainOutput(global_step=120, training_loss=1.0766277313232422, metrics={'train_runtime': 465.165, 'train_samples_per_second': 2.554, 'train_steps_per_second': 0.258, 'total_flos': 3.903592848791962e+16, 'train_loss': 1.0766277313232422, 'epoch': 3.0})"
            ]
          },
          "execution_count": 17,
          "metadata": {},
          "output_type": "execute_result"
        }
      ],
      "source": [
        "trainer = transformers.Trainer(\n",
        "    model=model,\n",
        "    train_dataset=formatted_data,\n",
        "    args=transformers.TrainingArguments(\n",
        "        per_device_train_batch_size=10,\n",
        "        gradient_accumulation_steps=1,\n",
        "      #  max_steps=50,\n",
        "        learning_rate=1e-4,\n",
        "        fp16=True,\n",
        "        logging_steps=500,\n",
        "        output_dir=f\"{model_id}_capstone_design\",\n",
        "        optim=\"paged_adamw_8bit\",\n",
        "        push_to_hub = True,\n",
        "        num_train_epochs = 3\n",
        "    ),\n",
        "    data_collator=transformers.DataCollatorForLanguageModeling(tokenizer, mlm=False),\n",
        ")\n",
        "model.config.use_cache = False\n",
        "trainer.train()"
      ]
    }
  ],
  "metadata": {
    "colab": {
      "machine_shape": "hm",
      "provenance": []
    },
    "kernelspec": {
      "display_name": "Python 3",
      "name": "python3"
    },
    "language_info": {
      "name": "python"
    }
  },
  "nbformat": 4,
  "nbformat_minor": 0
}